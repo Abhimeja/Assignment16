{
 "cells": [
  {
   "cell_type": "markdown",
   "id": "dd12282c-87df-4569-83a0-a181a9288a5f",
   "metadata": {},
   "source": [
    "Q1. What is Flask Framework? What are the advantages of Flask Framework?\n",
    "\n",
    "Ans--"
   ]
  },
  {
   "cell_type": "markdown",
   "id": "96cf03c6-facf-432f-85a4-58dfca61281c",
   "metadata": {},
   "source": [
    "Flask is a popular web framework for building web applications in Python. It is a lightweight and flexible framework that follows the model-view-controller (MVC) architectural pattern. Flask provides a simple and intuitive way to develop web applications by providing tools and libraries for handling routing, request handling, template rendering, and more.\n",
    "\n",
    "Advantages of Flask Framework:\n",
    "\n",
    "1.Lightweight and Minimalistic: Flask is designed to be minimalistic, which means it provides only the essential tools needed for web development. This makes it lightweight and easy to understand, allowing developers to have more control over their application's structure and functionality.\n",
    "\n",
    "2.Flexibility: Flask provides a lot of flexibility, allowing developers to customize and choose the components they need for their application. It does not enforce any specific way of doing things, so developers have the freedom to structure their code as they prefer.\n",
    "\n",
    "3.Easy to Get Started: Flask has a simple and straightforward syntax, making it easy for beginners to get started with web development. The learning curve is relatively low compared to other web frameworks, which means developers can start building applications quickly.\n",
    "\n",
    "4.Extensible: Flask is highly extensible, allowing developers to add additional functionality through various Flask extensions. There are numerous extensions available for tasks like database integration, authentication, form handling, and more. This extensibility makes it easier to integrate Flask with other libraries and tools.\n",
    "\n",
    "5.Large and Active Community: Flask has a large and active community of developers, which means there are plenty of resources, tutorials, and documentation available. This community support makes it easier to find help and learn from others' experiences.\n",
    "\n",
    "6.Well-Documented: Flask has excellent documentation that covers all the aspects of the framework. The documentation provides clear explanations, examples, and code snippets, making it easier for developers to understand and use Flask effectively.\n",
    "\n",
    "7.Scalability: While Flask is often used for small to medium-sized applications, it can also scale well for larger projects. By leveraging extensions and adopting proper design patterns, Flask can handle complex and scalable web application.\n",
    "\n",
    "Flask's simplicity, flexibility, and extensibility make it a popular choice for developers who value control over their web application's structure and functionality."
   ]
  },
  {
   "cell_type": "markdown",
   "id": "34bfcf1e-23d5-4dad-b69e-6b30cd2dcfab",
   "metadata": {},
   "source": [
    "Q2. Create a simple Flask application to display ‘Hello World!!’. Attach the screenshot of the output in\n",
    "Jupyter Notebook.\n",
    "\n",
    "Ans--"
   ]
  },
  {
   "cell_type": "markdown",
   "id": "5b7d40f9-c048-42db-8798-10d9fb4ef55e",
   "metadata": {},
   "source": [
    "!pip install flask\n"
   ]
  },
  {
   "cell_type": "code",
   "execution_count": null,
   "id": "162a28db-fabe-42a8-9bd8-d9274b216f0c",
   "metadata": {},
   "outputs": [
    {
     "name": "stdout",
     "output_type": "stream",
     "text": [
      " * Serving Flask app '__main__'\n",
      " * Debug mode: off\n"
     ]
    },
    {
     "name": "stderr",
     "output_type": "stream",
     "text": [
      "WARNING: This is a development server. Do not use it in a production deployment. Use a production WSGI server instead.\n",
      " * Running on all addresses (0.0.0.0)\n",
      " * Running on http://127.0.0.1:5000\n",
      " * Running on http://172.18.0.36:5000\n",
      "Press CTRL+C to quit\n",
      "172.18.0.2 - - [17/Jun/2023 12:20:29] \"GET / HTTP/1.1\" 200 -\n"
     ]
    }
   ],
   "source": [
    "from flask import Flask\n",
    "\n",
    "app = Flask(__name__)\n",
    "\n",
    "@app.route('/')\n",
    "def hello_world():\n",
    "    return 'Hello World!!'\n",
    "\n",
    "if __name__ == '__main__':\n",
    "    app.run(host=\"0.0.0.0\")\n"
   ]
  },
  {
   "cell_type": "markdown",
   "id": "51b165d0-758d-4bc3-bb88-b9b4d8e3c987",
   "metadata": {},
   "source": [
    "Q3. What is App routing in Flask? Why do we use app routes?\n",
    "\n",
    "Ans--"
   ]
  },
  {
   "cell_type": "markdown",
   "id": "72725f8d-a0c9-4e69-8b0b-06b781100432",
   "metadata": {},
   "source": [
    "In Flask, app routing refers to the process of associating different URLs (or routes) with corresponding Python functions that define the behavior of the application for those specific URLs. It allows us to create different endpoints or pages within our Flask application and define what should happen when a user visits those endpoints.\n",
    "\n",
    "The @app.route() decorator is used to define routes in Flask. It is applied to a Python function, and the function is executed whenever a request matches the specified route.\n",
    "\n",
    "We use app routes in Flask for several reasons:\n",
    "\n",
    "1.URL mapping: App routes allow us to define the mapping between specific URLs and the corresponding functions or views that should handle the requests to those URLs.\n",
    "\n",
    "2.Page navigation: By defining routes, we can create multiple pages within our Flask application and navigate between them using different URLs.\n",
    "\n",
    "3.Dynamic content: Routes enable us to create dynamic web applications where the content of a page can vary based on user input or other factors. Different routes can handle different types of requests and return appropriate responses.\n",
    "\n",
    "4.RESTful APIs: Routes are essential for building RESTful APIs using Flask. Each route can correspond to a specific API endpoint, allowing clients to interact with different resources and perform various operations.\n",
    "\n",
    "App routes in Flask provide a way to define the structure and behavior of our web application, allowing us to handle different URLs and serve the appropriate content or perform the necessary actions."
   ]
  },
  {
   "cell_type": "markdown",
   "id": "d137f6a6-d04d-427a-8062-a992fd8ebd98",
   "metadata": {},
   "source": [
    "Q4. Create a “/welcome” route to display the welcome message “Welcome to ABC Corporation” and a “/”\n",
    "route to show the following details:\n",
    "\n",
    "Company Name: ABC Corporation\n",
    "\n",
    "Location: India\n",
    "\n",
    "Contact Detail: 999-999-9999\n",
    "\n",
    "Attach the screenshot of the output in Jupyter Notebook.\n",
    "\n",
    "Ans--"
   ]
  },
  {
   "cell_type": "code",
   "execution_count": 1,
   "id": "b1e365b5-3b4c-4221-af4d-9a0b3c4d2ce3",
   "metadata": {},
   "outputs": [
    {
     "name": "stdout",
     "output_type": "stream",
     "text": [
      "Requirement already satisfied: flask in /opt/conda/lib/python3.10/site-packages (2.3.2)\n",
      "Requirement already satisfied: Werkzeug>=2.3.3 in /opt/conda/lib/python3.10/site-packages (from flask) (2.3.6)\n",
      "Requirement already satisfied: blinker>=1.6.2 in /opt/conda/lib/python3.10/site-packages (from flask) (1.6.2)\n",
      "Requirement already satisfied: click>=8.1.3 in /opt/conda/lib/python3.10/site-packages (from flask) (8.1.3)\n",
      "Requirement already satisfied: itsdangerous>=2.1.2 in /opt/conda/lib/python3.10/site-packages (from flask) (2.1.2)\n",
      "Requirement already satisfied: Jinja2>=3.1.2 in /opt/conda/lib/python3.10/site-packages (from flask) (3.1.2)\n",
      "Requirement already satisfied: MarkupSafe>=2.0 in /opt/conda/lib/python3.10/site-packages (from Jinja2>=3.1.2->flask) (2.1.1)\n"
     ]
    }
   ],
   "source": [
    "!pip install flask\n"
   ]
  },
  {
   "cell_type": "code",
   "execution_count": null,
   "id": "6f26d34c-a0f7-469b-84b9-105cec07e39e",
   "metadata": {},
   "outputs": [
    {
     "name": "stdout",
     "output_type": "stream",
     "text": [
      " * Serving Flask app '__main__'\n",
      " * Debug mode: off\n"
     ]
    },
    {
     "name": "stderr",
     "output_type": "stream",
     "text": [
      "WARNING: This is a development server. Do not use it in a production deployment. Use a production WSGI server instead.\n",
      " * Running on all addresses (0.0.0.0)\n",
      " * Running on http://127.0.0.1:5000\n",
      " * Running on http://172.18.0.36:5000\n",
      "Press CTRL+C to quit\n",
      "172.18.0.2 - - [17/Jun/2023 12:41:30] \"GET / HTTP/1.1\" 200 -\n"
     ]
    }
   ],
   "source": [
    "from flask import Flask\n",
    "\n",
    "app = Flask(__name__)\n",
    "\n",
    "@app.route('/welcome')\n",
    "def welcome():\n",
    "    return 'Welcome to ABC Corporation'\n",
    "\n",
    "@app.route('/')\n",
    "def company_details():\n",
    "    return '''Company Name: ABC Corporation<br>\n",
    "              Location: India<br>\n",
    "              Contact Detail: 999-999-9999'''\n",
    "\n",
    "if __name__ == '__main__':\n",
    "    app.run(host=\"0.0.0.0\")\n"
   ]
  },
  {
   "cell_type": "markdown",
   "id": "2cc6ebbb-0c51-4c9b-9a6c-a89f35f9df8c",
   "metadata": {},
   "source": [
    "Q5. What function is used in Flask for URL Building? Write a Python code to demonstrate the working of the\n",
    "url_for() function.\n",
    "\n",
    "Ans--"
   ]
  },
  {
   "cell_type": "markdown",
   "id": "1964d0a0-d754-4e51-88eb-952df0709637",
   "metadata": {},
   "source": [
    "In Flask, the url_for() function is used for URL building. It generates a URL for a given function name and arguments by taking into account the routing configuration.\n",
    "\n",
    "The url_for() function accepts the following parameters:\n",
    "\n",
    "1.endpoint: The name of the function or endpoint for which the URL needs to be generated.\n",
    "\n",
    "2.**kwargs: Keyword arguments representing the values to be filled in the URL's variables.\n",
    "\n",
    "Here's an example to demonstrate the working of the url_for() function in Python code:"
   ]
  },
  {
   "cell_type": "code",
   "execution_count": 2,
   "id": "9113b714-ec96-464c-9b4d-c2fc1a8c9b6a",
   "metadata": {},
   "outputs": [
    {
     "name": "stdout",
     "output_type": "stream",
     "text": [
      "/\n",
      "/user/John\n",
      "/products/electronics/12345\n",
      "/admin\n"
     ]
    }
   ],
   "source": [
    "from flask import Flask, url_for\n",
    "\n",
    "app = Flask(__name__)\n",
    "\n",
    "@app.route('/')\n",
    "def index():\n",
    "    return 'This is the homepage.'\n",
    "\n",
    "@app.route('/user/<username>')\n",
    "def profile(username):\n",
    "    return f'Welcome, {username}!'\n",
    "\n",
    "@app.route('/products/<category>/<product_id>')\n",
    "def show_product(category, product_id):\n",
    "    return f'Showing details for Product ID: {product_id} in the {category} category'\n",
    "\n",
    "@app.route('/admin')\n",
    "def admin_panel():\n",
    "    return 'This is the admin panel.'\n",
    "\n",
    "if __name__ == '__main__':\n",
    "    with app.test_request_context():\n",
    "        print(url_for('index'))\n",
    "        print(url_for('profile', username='John'))\n",
    "        print(url_for('show_product', category='electronics', product_id=12345))\n",
    "        print(url_for('admin_panel'))\n"
   ]
  },
  {
   "cell_type": "markdown",
   "id": "9ebdd0c2-d304-4663-8e0d-feadf31b3bcd",
   "metadata": {},
   "source": [
    "In this example, we have defined four routes:\n",
    "\n",
    "-The / route corresponds to the root URL and the index() function.\n",
    "\n",
    "-The /user/<username> route corresponds to the profile() function, which takes a username parameter.\n",
    "\n",
    "-The /products/<category>/<product_id> route corresponds to the show_product() function, which takes category and product_id parameters.\n",
    "\n",
    "-The /admin route corresponds to the admin_panel() function.\n",
    "\n",
    "    Within the if __name__ == '__main__' block, we use url_for() to generate URLs for each route and print them. When we run the application, it will generate and print the URLs for the specified functions.\n",
    "    \n",
    "    Each line represents the generated URL for the corresponding function and arguments passed to url_for().\n",
    "\n",
    "The url_for() function is handy when we want to generate URLs dynamically without hardcoding them. It helps maintain the integrity of URLs and allows for flexible URL generation based on the defined routes and parameters."
   ]
  },
  {
   "cell_type": "code",
   "execution_count": null,
   "id": "83a9e1a6-fe61-4659-8c40-dfc7cc36f98b",
   "metadata": {},
   "outputs": [],
   "source": []
  }
 ],
 "metadata": {
  "kernelspec": {
   "display_name": "Python 3 (ipykernel)",
   "language": "python",
   "name": "python3"
  },
  "language_info": {
   "codemirror_mode": {
    "name": "ipython",
    "version": 3
   },
   "file_extension": ".py",
   "mimetype": "text/x-python",
   "name": "python",
   "nbconvert_exporter": "python",
   "pygments_lexer": "ipython3",
   "version": "3.10.8"
  }
 },
 "nbformat": 4,
 "nbformat_minor": 5
}
